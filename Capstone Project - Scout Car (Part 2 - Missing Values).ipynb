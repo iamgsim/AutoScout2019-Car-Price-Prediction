{
 "cells": [
  {
   "cell_type": "code",
   "execution_count": null,
   "id": "61f16839",
   "metadata": {},
   "outputs": [],
   "source": [
    "import numpy as np\n",
    "import pandas as pd\n",
    "import seaborn as sns \n",
    "import matplotlib.pyplot as plt\n",
    "from scipy import stats\n",
    "from scipy.stats.mstats import winsorize\n",
    "\n",
    "import warnings\n",
    "warnings.filterwarnings(\"ignore\")\n",
    "warnings.warn(\"this will not show\")\n",
    "\n",
    "%matplotlib inline\n",
    "# %matplotlib notebook\n",
    "\n",
    "plt.rcParams[\"figure.figsize\"] = (10,6)\n",
    "# plt.rcParams['figure.dpi'] = 100\n",
    "\n",
    "sns.set_style(\"whitegrid\")\n",
    "pd.set_option('display.float_format', lambda x: '%.3f' % x)\n",
    "\n",
    "pd.options.display.max_rows = 1000\n",
    "pd.options.display.max_columns = 150"
   ]
  },
  {
   "cell_type": "code",
   "execution_count": null,
   "id": "dfb2be0f",
   "metadata": {},
   "outputs": [],
   "source": [
    "df = pd.read_csv(\"clean_scout.csv\")"
   ]
  },
  {
   "cell_type": "code",
   "execution_count": null,
   "id": "fa9b98b0",
   "metadata": {},
   "outputs": [],
   "source": [
    "df"
   ]
  },
  {
   "cell_type": "code",
   "execution_count": null,
   "id": "5a698f40",
   "metadata": {},
   "outputs": [],
   "source": [
    "df.shape"
   ]
  },
  {
   "cell_type": "code",
   "execution_count": null,
   "id": "fbfde0ee",
   "metadata": {},
   "outputs": [],
   "source": [
    "df.head(5).T"
   ]
  },
  {
   "cell_type": "code",
   "execution_count": null,
   "id": "ecf645aa",
   "metadata": {},
   "outputs": [],
   "source": [
    "df.isnull().sum()*100 / df.shape[0]"
   ]
  },
  {
   "cell_type": "code",
   "execution_count": null,
   "id": "425e5539",
   "metadata": {},
   "outputs": [],
   "source": [
    "miss_val = []\n",
    "\n",
    "[miss_val.append(column) for column in df.columns if any(df[column].isnull())]\n",
    "\n",
    "print(\"Columns that have missing values :\")\n",
    "\n",
    "miss_val"
   ]
  },
  {
   "cell_type": "code",
   "execution_count": null,
   "id": "9bbebb9b",
   "metadata": {},
   "outputs": [],
   "source": [
    "# function for first looking to the columns\n",
    "\n",
    "def first_looking(col):\n",
    "    print(\"column name    : \", col)\n",
    "    print(\"--------------------------------\")\n",
    "    print(\"per_of_nulls   : \", \"%\", round(df[col].isnull().sum()*100 / df.shape[0], 2))\n",
    "    print(\"num_of_nulls   : \", df[col].isnull().sum())\n",
    "    print(\"num_of_uniques : \", df[col].nunique())\n",
    "    print(\"--------------------------------\")\n",
    "    print(df[col].value_counts(dropna = False))"
   ]
  },
  {
   "cell_type": "code",
   "execution_count": null,
   "id": "83175e20",
   "metadata": {},
   "outputs": [],
   "source": [
    "def fill_most_freq(df, group_col, col_name):\n",
    "    \n",
    "    '''Fills the missing values with the most existing value (mode) in the relevant column according to single-stage grouping'''\n",
    "    \n",
    "    for group in list(df[group_col].unique()):\n",
    "        cond = df[group_col]==group\n",
    "        mode = list(df[cond][col_name].mode())\n",
    "        if mode != []:\n",
    "            df.loc[cond, col_name] = df.loc[cond, col_name].fillna(df[cond][col_name].mode()[0])\n",
    "        else:\n",
    "            df.loc[cond, col_name] = df.loc[cond, col_name].fillna(df[col_name].mode()[0])\n",
    "    print(\"Number of NaN : \", df[col_name].isnull().sum())\n",
    "    print(\"------------------\")\n",
    "    print(df[col_name].value_counts(dropna=False))"
   ]
  },
  {
   "cell_type": "code",
   "execution_count": null,
   "id": "035341ae",
   "metadata": {},
   "outputs": [],
   "source": [
    "def fill_prop(df, group_col, col_name):\n",
    "    \n",
    "    '''Fills the missing values with \"ffill and bfill method\" according to single-stage grouping'''\n",
    "    \n",
    "    for group in list(df[group_col].unique()):\n",
    "        cond = df[group_col]==group\n",
    "        df.loc[cond, col_name] = df.loc[cond, col_name].fillna(method=\"ffill\").fillna(method=\"bfill\")\n",
    "    df[col_name] = df[col_name].fillna(method=\"ffill\").fillna(method=\"bfill\")\n",
    "    print(\"Number of NaN : \", df[col_name].isnull().sum())\n",
    "    print(\"------------------\")\n",
    "    print(df[col_name].value_counts(dropna=False))"
   ]
  },
  {
   "cell_type": "code",
   "execution_count": null,
   "id": "13b65e51",
   "metadata": {},
   "outputs": [],
   "source": [
    "def fill(df, group_col1, group_col2, col_name, method): # method can be either \"mode\" or \"mean\" or \"median\" or \"ffill\"\n",
    "    \n",
    "    '''Fills the missing values with \"mode/mean/median/ffill/bfill method\" according to double-stage grouping'''\n",
    "    \n",
    "    if method == \"mode\":\n",
    "        for group1 in list(df[group_col1].unique()):\n",
    "            for group2 in list(df[group_col2].unique()):\n",
    "                cond1 = df[group_col1]==group1\n",
    "                cond2 = (df[group_col1]==group1) & (df[group_col2]==group2)\n",
    "                mode1 = list(df[cond1][col_name].mode())\n",
    "                mode2 = list(df[cond2][col_name].mode())\n",
    "                if mode2 != []:\n",
    "                    df.loc[cond2, col_name] = df.loc[cond2, col_name].fillna(df[cond2][col_name].mode()[0])\n",
    "                elif mode1 != []:\n",
    "                    df.loc[cond2, col_name] = df.loc[cond2, col_name].fillna(df[cond1][col_name].mode()[0])\n",
    "                else:\n",
    "                    df.loc[cond2, col_name] = df.loc[cond2, col_name].fillna(df[col_name].mode()[0])\n",
    "\n",
    "    elif method == \"mean\":\n",
    "        df[col_name].fillna(df.groupby([group_col1, group_col2])[col_name].transform(\"mean\"), inplace = True)\n",
    "        df[col_name].fillna(df.groupby(group_col1)[col_name].transform(\"mean\"), inplace = True)\n",
    "        df[col_name].fillna(df[col_name].mean(), inplace = True)\n",
    "        \n",
    "    elif method == \"median\":\n",
    "        df[col_name].fillna(df.groupby([group_col1, group_col2])[col_name].transform(\"median\"), inplace = True)\n",
    "        df[col_name].fillna(df.groupby(group_col1)[col_name].transform(\"median\"), inplace = True)\n",
    "        df[col_name].fillna(df[col_name].median(), inplace = True)\n",
    "        \n",
    "    elif method == \"ffill\":           \n",
    "        for group1 in list(df[group_col1].unique()):\n",
    "            for group2 in list(df[group_col2].unique()):\n",
    "                cond2 = (df[group_col1]==group1) & (df[group_col2]==group2)\n",
    "                df.loc[cond2, col_name] = df.loc[cond2, col_name].fillna(method=\"ffill\").fillna(method=\"bfill\")\n",
    "                \n",
    "        for group1 in list(df[group_col1].unique()):\n",
    "            cond1 = df[group_col1]==group1\n",
    "            df.loc[cond1, col_name] = df.loc[cond1, col_name].fillna(method=\"ffill\").fillna(method=\"bfill\")            \n",
    "           \n",
    "        df[col_name] = df[col_name].fillna(method=\"ffill\").fillna(method=\"bfill\")\n",
    "    \n",
    "    print(\"Number of NaN : \",df[col_name].isnull().sum())\n",
    "    print(\"------------------\")\n",
    "    print(df[col_name].value_counts(dropna=False))"
   ]
  },
  {
   "cell_type": "code",
   "execution_count": null,
   "id": "6818256f",
   "metadata": {},
   "outputs": [],
   "source": [
    "first_looking(\"age\")"
   ]
  },
  {
   "cell_type": "code",
   "execution_count": null,
   "id": "53a8f199",
   "metadata": {},
   "outputs": [],
   "source": [
    "df['age'].fillna('-', inplace=True)"
   ]
  },
  {
   "cell_type": "code",
   "execution_count": null,
   "id": "87a3f2c4",
   "metadata": {},
   "outputs": [],
   "source": [
    "df[\"age\"].value_counts(dropna=False)"
   ]
  },
  {
   "cell_type": "code",
   "execution_count": null,
   "id": "81a379b2",
   "metadata": {},
   "outputs": [],
   "source": [
    "df.groupby(\"age\").km.describe()"
   ]
  },
  {
   "cell_type": "code",
   "execution_count": null,
   "id": "6522f743",
   "metadata": {},
   "outputs": [],
   "source": [
    "df[df[\"age\"] == \"-\"][\"km\"].value_counts(dropna=False)"
   ]
  },
  {
   "cell_type": "code",
   "execution_count": null,
   "id": "6c83882c",
   "metadata": {},
   "outputs": [],
   "source": [
    "cond1 = (df['km'] < 10000)\n",
    "cond2 = ((df['km'] >= 10000) & (df['km'] < 28000))\n",
    "cond3 = ((df['km'] >= 28000) & (df['km'] < 50000))\n",
    "cond4 = (df['km'] >= 50000)"
   ]
  },
  {
   "cell_type": "code",
   "execution_count": null,
   "id": "5648a686",
   "metadata": {},
   "outputs": [],
   "source": [
    "df.loc[cond1,'age'] = df.loc[cond1,'age'].replace('-', 0)\n",
    "df.loc[cond2,'age'] = df.loc[cond2,'age'].replace('-', 1)\n",
    "df.loc[cond3,'age'] = df.loc[cond3,'age'].replace('-', 2)\n",
    "df.loc[cond4,'age'] = df.loc[cond4,'age'].replace('-', 3)"
   ]
  },
  {
   "cell_type": "code",
   "execution_count": null,
   "id": "fc95282c",
   "metadata": {},
   "outputs": [],
   "source": [
    "df.groupby('age').km.mean()"
   ]
  },
  {
   "cell_type": "code",
   "execution_count": null,
   "id": "aeab24f8",
   "metadata": {},
   "outputs": [],
   "source": [
    "df[\"age\"].value_counts(dropna=False)"
   ]
  },
  {
   "cell_type": "code",
   "execution_count": null,
   "id": "d1c199d1",
   "metadata": {},
   "outputs": [],
   "source": [
    "df.groupby(['make_model',\"body_type\", 'age']).price.describe()"
   ]
  },
  {
   "cell_type": "code",
   "execution_count": null,
   "id": "3f1975ed",
   "metadata": {},
   "outputs": [],
   "source": [
    "df['age'].replace('-', 0, inplace=True)"
   ]
  },
  {
   "cell_type": "code",
   "execution_count": null,
   "id": "9161ee48",
   "metadata": {},
   "outputs": [],
   "source": [
    "df.groupby('age').km.mean()"
   ]
  },
  {
   "cell_type": "code",
   "execution_count": null,
   "id": "2ec7657c",
   "metadata": {},
   "outputs": [],
   "source": [
    "df[\"age\"].value_counts(dropna=False)"
   ]
  },
  {
   "cell_type": "code",
   "execution_count": null,
   "id": "372c1625",
   "metadata": {},
   "outputs": [],
   "source": [
    "first_looking(\"km\")"
   ]
  },
  {
   "cell_type": "code",
   "execution_count": null,
   "id": "1aa511d7",
   "metadata": {},
   "outputs": [],
   "source": [
    "df.groupby(\"age\").km.mean()"
   ]
  },
  {
   "cell_type": "code",
   "execution_count": null,
   "id": "90fb6cc5",
   "metadata": {},
   "outputs": [],
   "source": [
    "df[df[\"km\"].isna()][[\"age\", \"km\"]]"
   ]
  },
  {
   "cell_type": "code",
   "execution_count": null,
   "id": "056f5e78",
   "metadata": {},
   "outputs": [],
   "source": [
    "df.groupby(\"age\").km.transform(\"mean\")"
   ]
  },
  {
   "cell_type": "code",
   "execution_count": null,
   "id": "00ce894f",
   "metadata": {},
   "outputs": [],
   "source": [
    "df[df[\"km\"].isna()][[\"age\", \"km\"]]"
   ]
  },
  {
   "cell_type": "code",
   "execution_count": null,
   "id": "ee8f11c1",
   "metadata": {},
   "outputs": [],
   "source": [
    "df.km.value_counts(dropna=False)"
   ]
  },
  {
   "cell_type": "code",
   "execution_count": null,
   "id": "ebc4a315",
   "metadata": {},
   "outputs": [],
   "source": [
    "first_looking(\"body_type\")"
   ]
  },
  {
   "cell_type": "code",
   "execution_count": null,
   "id": "c071caa9",
   "metadata": {},
   "outputs": [],
   "source": [
    "df.body_type.replace(\"Other\", np.nan, inplace=True) "
   ]
  },
  {
   "cell_type": "code",
   "execution_count": null,
   "id": "4124d3b3",
   "metadata": {},
   "outputs": [],
   "source": [
    "df['body_type'].value_counts(dropna=False)"
   ]
  },
  {
   "cell_type": "code",
   "execution_count": null,
   "id": "b56840cb",
   "metadata": {},
   "outputs": [],
   "source": [
    "df[\"body_type\"].mode()"
   ]
  },
  {
   "cell_type": "code",
   "execution_count": null,
   "id": "c6cf7f53",
   "metadata": {},
   "outputs": [],
   "source": [
    "df[\"body_type\"].mode()[0]"
   ]
  },
  {
   "cell_type": "code",
   "execution_count": null,
   "id": "d5967166",
   "metadata": {},
   "outputs": [],
   "source": [
    "for group in df[\"make_model\"].unique():\n",
    "    cond = df[\"make_model\"]==group\n",
    "    mode = df[cond][\"body_type\"].mode().to_list()  # list(df[cond][\"body_type\"].mode())\n",
    "    if mode != []:\n",
    "        df.loc[cond, \"body_type\"] = df.loc[cond, \"body_type\"].fillna(df[cond][\"body_type\"].mode()[0])\n",
    "    else:\n",
    "        df.loc[cond, \"body_type\"] = df.loc[cond, \"body_type\"].fillna(df[\"body_type\"].mode()[0])"
   ]
  },
  {
   "cell_type": "code",
   "execution_count": null,
   "id": "dbaa6d9f",
   "metadata": {},
   "outputs": [],
   "source": [
    "df['body_type'].value_counts(dropna=False)"
   ]
  },
  {
   "cell_type": "code",
   "execution_count": null,
   "id": "c966e261",
   "metadata": {},
   "outputs": [],
   "source": [
    "def fill_most_freq(df, group_col, col_name):\n",
    "    '''Fills the missing values with the most existing value (mode) in the relevant column according to single-stage grouping'''\n",
    "    \n",
    "    for group in list(df[group_col].unique()):\n",
    "        cond = df[group_col]==group\n",
    "        mode = list(df[cond][col_name].mode())\n",
    "        if mode != []:\n",
    "            df.loc[cond, col_name] = df.loc[cond, col_name].fillna(df[cond][col_name].mode()[0])\n",
    "        else:\n",
    "            df.loc[cond, col_name] = df.loc[cond, col_name].fillna(df[col_name].mode()[0])\n",
    "    \n",
    "    print(\"Number of NaN : \",df[col_name].isnull().sum())\n",
    "    print(\"------------------\")\n",
    "    print(df[col_name].value_counts(dropna=False))"
   ]
  },
  {
   "cell_type": "code",
   "execution_count": null,
   "id": "3b67c3b3",
   "metadata": {},
   "outputs": [],
   "source": [
    "fill_most_freq(df, \"make_model\", \"body_type\")"
   ]
  },
  {
   "cell_type": "code",
   "execution_count": null,
   "id": "3b8367e9",
   "metadata": {},
   "outputs": [],
   "source": [
    "first_looking(\"Previous_Owners\")"
   ]
  },
  {
   "cell_type": "code",
   "execution_count": null,
   "id": "4abd075a",
   "metadata": {},
   "outputs": [],
   "source": [
    "df[\"Previous_Owners\"].fillna(\"-\", inplace = True)"
   ]
  },
  {
   "cell_type": "code",
   "execution_count": null,
   "id": "108b0340",
   "metadata": {},
   "outputs": [],
   "source": [
    "df[\"Previous_Owners\"].value_counts(dropna=False)"
   ]
  },
  {
   "cell_type": "code",
   "execution_count": null,
   "id": "db7d08fc",
   "metadata": {},
   "outputs": [],
   "source": [
    "df.groupby(['make_model', 'body_type', 'age', 'Previous_Owners']).price.describe()"
   ]
  },
  {
   "cell_type": "code",
   "execution_count": null,
   "id": "60ca6d23",
   "metadata": {},
   "outputs": [],
   "source": [
    "df.groupby(['make_model', 'body_type', 'age', 'Previous_Owners']).km.describe()"
   ]
  },
  {
   "cell_type": "code",
   "execution_count": null,
   "id": "2e591df6",
   "metadata": {},
   "outputs": [],
   "source": [
    "cond = (df[\"make_model\"]==\"Renault Duster\") & (df[\"Previous_Owners\"] == \"-\")\n",
    "df.loc[cond, \"Previous_Owners\"] = 0.0"
   ]
  },
  {
   "cell_type": "code",
   "execution_count": null,
   "id": "551959b4",
   "metadata": {},
   "outputs": [],
   "source": [
    "df[\"Previous_Owners\"].value_counts(dropna=False)"
   ]
  },
  {
   "cell_type": "code",
   "execution_count": null,
   "id": "e72a66ee",
   "metadata": {},
   "outputs": [],
   "source": [
    "df[\"Previous_Owners\"].replace(\"-\", np.nan, inplace=True)"
   ]
  },
  {
   "cell_type": "code",
   "execution_count": null,
   "id": "abdb7cb5",
   "metadata": {},
   "outputs": [],
   "source": [
    "for age in df[\"age\"].unique():\n",
    "    cond = df[\"age\"] == age\n",
    "    df.loc[cond, \"Previous_Owners\"] = df.loc[cond, \"Previous_Owners\"].fillna(method=\"ffill\").fillna(method=\"bfill\")\n",
    "\n",
    "df[\"Previous_Owners\"] = df[\"Previous_Owners\"].fillna(method=\"ffill\").fillna(method=\"bfill\")  # If there has still been \"NaN\" values this code line will deal with it"
   ]
  },
  {
   "cell_type": "code",
   "execution_count": null,
   "id": "a619d504",
   "metadata": {},
   "outputs": [],
   "source": [
    "df[\"Previous_Owners\"].value_counts(dropna=False)"
   ]
  },
  {
   "cell_type": "code",
   "execution_count": null,
   "id": "5b79471d",
   "metadata": {},
   "outputs": [],
   "source": [
    "def fill_prop(df, group_col, col_name):\n",
    "    '''Fills the missing values with \"ffill and bfill method\" according to single-stage grouping'''\n",
    "    \n",
    "    for group in df[group_col].unique():\n",
    "        cond = df[group_col]==group\n",
    "        df.loc[cond, col_name] = df.loc[cond, col_name].fillna(method=\"ffill\").fillna(method=\"bfill\")\n",
    "    \n",
    "    df[col_name] = df[col_name].fillna(method=\"ffill\").fillna(method=\"bfill\")\n",
    "    \n",
    "    print(\"Number of NaN : \",df[col_name].isnull().sum())\n",
    "    print(\"------------------\")\n",
    "    print(df[col_name].value_counts(dropna=False))"
   ]
  },
  {
   "cell_type": "code",
   "execution_count": null,
   "id": "5516d201",
   "metadata": {},
   "outputs": [],
   "source": [
    "fill_prop(df, \"age\", \"Previous_Owners\")"
   ]
  },
  {
   "cell_type": "code",
   "execution_count": null,
   "id": "7e2703f9",
   "metadata": {},
   "outputs": [],
   "source": [
    "first_looking(\"Warranty\")"
   ]
  },
  {
   "cell_type": "code",
   "execution_count": null,
   "id": "b1246fa5",
   "metadata": {},
   "outputs": [],
   "source": [
    "df[\"Warranty\"].fillna(\"-\", inplace = True)"
   ]
  },
  {
   "cell_type": "code",
   "execution_count": null,
   "id": "27e9bfe5",
   "metadata": {},
   "outputs": [],
   "source": [
    "df.groupby(['make_model', 'age', 'Warranty']).price.describe()"
   ]
  },
  {
   "cell_type": "code",
   "execution_count": null,
   "id": "e5a660ad",
   "metadata": {},
   "outputs": [],
   "source": [
    "df.groupby([\"make_model\", \"Warranty\"]).price.describe().sort_values(by = [\"make_model\", \"mean\"], ascending=False)"
   ]
  },
  {
   "cell_type": "code",
   "execution_count": null,
   "id": "1ea66fed",
   "metadata": {},
   "outputs": [],
   "source": [
    "df.drop(\"Warranty\", axis=1, inplace=True)"
   ]
  },
  {
   "cell_type": "code",
   "execution_count": null,
   "id": "fecf5f31",
   "metadata": {},
   "outputs": [],
   "source": [
    "first_looking(\"vat\")"
   ]
  },
  {
   "cell_type": "code",
   "execution_count": null,
   "id": "c9ac0119",
   "metadata": {},
   "outputs": [],
   "source": [
    "df[\"vat\"].fillna(\"-\", inplace = True)"
   ]
  },
  {
   "cell_type": "code",
   "execution_count": null,
   "id": "eaffef72",
   "metadata": {},
   "outputs": [],
   "source": [
    "df.groupby([\"make_model\", \"body_type\", \"vat\"]).price.describe()"
   ]
  },
  {
   "cell_type": "code",
   "execution_count": null,
   "id": "8b4f0337",
   "metadata": {},
   "outputs": [],
   "source": [
    "df.drop(\"vat\", axis=1, inplace=True)"
   ]
  },
  {
   "cell_type": "code",
   "execution_count": null,
   "id": "f8f93bfd",
   "metadata": {},
   "outputs": [],
   "source": [
    "first_looking(\"Paint_Type\")"
   ]
  },
  {
   "cell_type": "code",
   "execution_count": null,
   "id": "42c48a4e",
   "metadata": {},
   "outputs": [],
   "source": [
    "df[\"Paint_Type\"].fillna(\"-\", inplace = True)"
   ]
  },
  {
   "cell_type": "code",
   "execution_count": null,
   "id": "20682bbc",
   "metadata": {},
   "outputs": [],
   "source": [
    "df.groupby([\"make_model\", \"body_type\", \"age\", 'Paint_Type']).price.describe()"
   ]
  },
  {
   "cell_type": "code",
   "execution_count": null,
   "id": "df109567",
   "metadata": {},
   "outputs": [],
   "source": [
    "df.groupby([\"make_model\", \"body_type\", 'Paint_Type']).price.describe().sort_values(by = [\"make_model\", \"body_type\", \"mean\"], ascending = False)"
   ]
  },
  {
   "cell_type": "code",
   "execution_count": null,
   "id": "9283f567",
   "metadata": {},
   "outputs": [],
   "source": [
    "df[\"Paint_Type\"].replace(\"-\", np.nan, inplace=True)"
   ]
  },
  {
   "cell_type": "code",
   "execution_count": null,
   "id": "fcdd9a08",
   "metadata": {},
   "outputs": [],
   "source": [
    "for group1 in df[\"make_model\"].unique():\n",
    "    for group2 in list(df[\"body_type\"].unique()):\n",
    "        cond2 = (df[\"make_model\"]==group1) & (df[\"body_type\"]==group2)\n",
    "        df.loc[cond2, \"Paint_Type\"] = df.loc[cond2, \"Paint_Type\"].fillna(method=\"ffill\").fillna(method=\"bfill\")\n",
    "                \n",
    "for group1 in list(df[\"make_model\"].unique()):\n",
    "    cond1 = df[\"make_model\"]==group1\n",
    "    df.loc[cond1, \"Paint_Type\"] = df.loc[cond1, \"Paint_Type\"].fillna(method=\"ffill\").fillna(method=\"bfill\")            \n",
    "           \n",
    "df[\"Paint_Type\"] = df[\"Paint_Type\"].fillna(method=\"ffill\").fillna(method=\"bfill\")"
   ]
  },
  {
   "cell_type": "code",
   "execution_count": null,
   "id": "f4074d81",
   "metadata": {},
   "outputs": [],
   "source": [
    "df[\"Paint_Type\"].value_counts(dropna=False)"
   ]
  },
  {
   "cell_type": "code",
   "execution_count": null,
   "id": "f375296c",
   "metadata": {},
   "outputs": [],
   "source": [
    "def fill_ffill(df, group_col1, group_col2, col_name):\n",
    "    \n",
    "    for group1 in list(df[group_col1].unique()):\n",
    "        for group2 in list(df[group_col2].unique()):\n",
    "            cond2 = (df[group_col1]==group1) & (df[group_col2]==group2)\n",
    "            df.loc[cond2, col_name] = df.loc[cond2, col_name].fillna(method=\"ffill\").fillna(method=\"bfill\")\n",
    "                \n",
    "    for group1 in list(df[group_col1].unique()):\n",
    "        cond1 = df[group_col1]==group1\n",
    "        df.loc[cond1, col_name] = df.loc[cond1, col_name].fillna(method=\"ffill\").fillna(method=\"bfill\")            \n",
    "           \n",
    "    df[col_name] = df[col_name].fillna(method=\"ffill\").fillna(method=\"bfill\")\n",
    "    \n",
    "    print(\"Number of NaN : \",df[col_name].isnull().sum())\n",
    "    print(\"------------------\")\n",
    "    print(df[col_name].value_counts(dropna=False))"
   ]
  },
  {
   "cell_type": "code",
   "execution_count": null,
   "id": "b2462946",
   "metadata": {},
   "outputs": [],
   "source": [
    "fill_ffill(df, \"make_model\", \"body_type\", \"Paint_Type\")"
   ]
  },
  {
   "cell_type": "code",
   "execution_count": null,
   "id": "cb33216c",
   "metadata": {},
   "outputs": [],
   "source": [
    "first_looking(\"Type\")"
   ]
  },
  {
   "cell_type": "code",
   "execution_count": null,
   "id": "733140fe",
   "metadata": {},
   "outputs": [],
   "source": [
    "df.Type.fillna(\"-\", inplace=True)"
   ]
  },
  {
   "cell_type": "code",
   "execution_count": null,
   "id": "6f1b3920",
   "metadata": {},
   "outputs": [],
   "source": [
    "df.groupby([\"Type\", \"make_model\", \"age\"]).km.describe()"
   ]
  },
  {
   "cell_type": "code",
   "execution_count": null,
   "id": "5c4b31d7",
   "metadata": {},
   "outputs": [],
   "source": [
    "df.groupby([\"make_model\", \"age\", \"Type\"]).price.describe()"
   ]
  },
  {
   "cell_type": "code",
   "execution_count": null,
   "id": "226890bc",
   "metadata": {},
   "outputs": [],
   "source": [
    "cond1 = (df['make_model'] == \"Audi A3\") & (df[\"age\"] == 0)\n",
    "cond2 = (df['make_model'] == \"Audi A3\") & (df[\"age\"] == 3)"
   ]
  },
  {
   "cell_type": "code",
   "execution_count": null,
   "id": "fe5f67af",
   "metadata": {},
   "outputs": [],
   "source": [
    "df.loc[cond1,'Type'] = df.loc[cond1,'Type'].replace('-', 'New')\n",
    "df.loc[cond2,'Type'] = df.loc[cond2,'Type'].replace('-', 'Used')"
   ]
  },
  {
   "cell_type": "code",
   "execution_count": null,
   "id": "405f28a0",
   "metadata": {},
   "outputs": [],
   "source": [
    "df['Type'].value_counts(dropna=False)"
   ]
  },
  {
   "cell_type": "code",
   "execution_count": null,
   "id": "b39e4636",
   "metadata": {},
   "outputs": [],
   "source": [
    "first_looking(\"Inspection_new\")"
   ]
  },
  {
   "cell_type": "code",
   "execution_count": null,
   "id": "f7f8c1b7",
   "metadata": {},
   "outputs": [],
   "source": [
    "df[\"Inspection_new\"].fillna(\"-\", inplace=True)"
   ]
  },
  {
   "cell_type": "code",
   "execution_count": null,
   "id": "e3592ce0",
   "metadata": {},
   "outputs": [],
   "source": [
    "df.groupby([\"make_model\", \"body_type\", \"age\", \"Inspection_new\"]).price.describe()"
   ]
  },
  {
   "cell_type": "code",
   "execution_count": null,
   "id": "25147641",
   "metadata": {},
   "outputs": [],
   "source": [
    "df[\"Inspection_new\"].replace(\"-\", \"No\", inplace=True)"
   ]
  },
  {
   "cell_type": "code",
   "execution_count": null,
   "id": "07f3a4dd",
   "metadata": {},
   "outputs": [],
   "source": [
    "df[\"Inspection_new\"].value_counts(dropna=False)"
   ]
  },
  {
   "cell_type": "code",
   "execution_count": null,
   "id": "35002062",
   "metadata": {},
   "outputs": [],
   "source": [
    "df[\"Inspection_new\"].replace([\"Yes\", \"No\"], [1, 0], inplace=True)"
   ]
  },
  {
   "cell_type": "code",
   "execution_count": null,
   "id": "d835cead",
   "metadata": {},
   "outputs": [],
   "source": [
    "df[\"Inspection_new\"].value_counts(dropna=False)"
   ]
  },
  {
   "cell_type": "code",
   "execution_count": null,
   "id": "b847ac6e",
   "metadata": {},
   "outputs": [],
   "source": [
    "first_looking(\"Upholstery_type\")"
   ]
  },
  {
   "cell_type": "code",
   "execution_count": null,
   "id": "8af996b3",
   "metadata": {},
   "outputs": [],
   "source": [
    "df.groupby([\"make_model\", \"body_type\", \"age\", \"Upholstery_type\"]).price.describe()"
   ]
  },
  {
   "cell_type": "code",
   "execution_count": null,
   "id": "2252e2ed",
   "metadata": {},
   "outputs": [],
   "source": [
    "df[\"Upholstery_type\"].replace([\"Velour\", \"alcantara\", \"Part leather\", \"Full leather\"], \n",
    "                              [\"Cloth\", \"Part/Full Leather\", \"Part/Full Leather\", \"Part/Full Leather\"], inplace=True)"
   ]
  },
  {
   "cell_type": "code",
   "execution_count": null,
   "id": "65537940",
   "metadata": {},
   "outputs": [],
   "source": [
    "df[\"Upholstery_type\"].value_counts(dropna=False)"
   ]
  },
  {
   "cell_type": "code",
   "execution_count": null,
   "id": "8d89e165",
   "metadata": {},
   "outputs": [],
   "source": [
    "df[\"Upholstery_type\"].fillna(\"-\", inplace=True)"
   ]
  },
  {
   "cell_type": "code",
   "execution_count": null,
   "id": "bfcfaf0d",
   "metadata": {},
   "outputs": [],
   "source": [
    "df.groupby([\"make_model\", \"body_type\", \"age\", \"Upholstery_type\"]).price.describe()"
   ]
  },
  {
   "cell_type": "code",
   "execution_count": null,
   "id": "7ac2b9a1",
   "metadata": {},
   "outputs": [],
   "source": [
    "df[\"Upholstery_type\"].replace(\"-\", np.nan, inplace=True)"
   ]
  },
  {
   "cell_type": "code",
   "execution_count": null,
   "id": "55a793e6",
   "metadata": {},
   "outputs": [],
   "source": [
    "fill(df, \"make_model\", \"body_type\", \"Upholstery_type\", \"ffill\")"
   ]
  },
  {
   "cell_type": "code",
   "execution_count": null,
   "id": "4d624a59",
   "metadata": {},
   "outputs": [],
   "source": [
    "df.drop(\"Upholstery_color\", axis=1, inplace=True)"
   ]
  },
  {
   "cell_type": "code",
   "execution_count": null,
   "id": "a6176f0e",
   "metadata": {},
   "outputs": [],
   "source": [
    "first_looking(\"Nr_of_Doors\")"
   ]
  },
  {
   "cell_type": "code",
   "execution_count": null,
   "id": "3e0fb949",
   "metadata": {},
   "outputs": [],
   "source": [
    "for group1 in list(df[\"make_model\"].unique()):\n",
    "    for group2 in list(df[\"body_type\"].unique()):\n",
    "        cond1 = df[\"make_model\"]==group1\n",
    "        cond2 = (df[\"make_model\"]==group1) & (df[\"body_type\"]==group2)\n",
    "        mode1 = list(df[cond1][\"Nr_of_Doors\"].mode())\n",
    "        mode2 = list(df[cond2][\"Nr_of_Doors\"].mode())\n",
    "        if mode2 != []:\n",
    "            df.loc[cond2, \"Nr_of_Doors\"] = df.loc[cond2, \"Nr_of_Doors\"].fillna(df[cond2][\"Nr_of_Doors\"].mode()[0])\n",
    "        elif mode1 != []:\n",
    "            df.loc[cond2, \"Nr_of_Doors\"] = df.loc[cond2, \"Nr_of_Doors\"].fillna(df[cond1][\"Nr_of_Doors\"].mode()[0])\n",
    "        else:\n",
    "            df.loc[cond2, \"Nr_of_Doors\"] = df.loc[cond2, \"Nr_of_Doors\"].fillna(df[\"Nr_of_Doors\"].mode()[0])"
   ]
  },
  {
   "cell_type": "code",
   "execution_count": null,
   "id": "71cf7c0a",
   "metadata": {},
   "outputs": [],
   "source": [
    "df[\"Nr_of_Doors\"].value_counts(dropna=False)"
   ]
  },
  {
   "cell_type": "code",
   "execution_count": null,
   "id": "cdc14c55",
   "metadata": {},
   "outputs": [],
   "source": [
    "def fill_mode(df, group_col1, group_col2, col_name):\n",
    "    \n",
    "    for group1 in list(df[group_col1].unique()):\n",
    "        for group2 in list(df[group_col2].unique()):\n",
    "            cond1 = df[group_col1]==group1\n",
    "            cond2 = (df[group_col1]==group1) & (df[group_col2]==group2)\n",
    "            mode1 = list(df[cond1][col_name].mode())\n",
    "            mode2 = list(df[cond2][col_name].mode())\n",
    "            if mode2 != []:\n",
    "                df.loc[cond2, col_name] = df.loc[cond2, col_name].fillna(df[cond2][col_name].mode()[0])\n",
    "            elif mode1 != []:\n",
    "                df.loc[cond2, col_name] = df.loc[cond2, col_name].fillna(df[cond1][col_name].mode()[0])\n",
    "            else:\n",
    "                df.loc[cond2, col_name] = df.loc[cond2, col_name].fillna(df[col_name].mode()[0])\n",
    "    \n",
    "    print(\"Number of NaN : \", df[col_name].isnull().sum())\n",
    "    print(\"------------------\")\n",
    "    print(df[col_name].value_counts(dropna=False))"
   ]
  },
  {
   "cell_type": "code",
   "execution_count": null,
   "id": "1ef62378",
   "metadata": {},
   "outputs": [],
   "source": [
    "fill_mode(df, \"make_model\", \"body_type\", \"Nr_of_Doors\")"
   ]
  },
  {
   "cell_type": "code",
   "execution_count": null,
   "id": "e4425a7c",
   "metadata": {},
   "outputs": [],
   "source": [
    "first_looking(\"Nr_of_Seats\")"
   ]
  },
  {
   "cell_type": "code",
   "execution_count": null,
   "id": "2f2ed589",
   "metadata": {},
   "outputs": [],
   "source": [
    "fill(df, \"make_model\", \"body_type\", \"Nr_of_Seats\", \"mode\")"
   ]
  },
  {
   "cell_type": "code",
   "execution_count": null,
   "id": "84842089",
   "metadata": {},
   "outputs": [],
   "source": [
    "first_looking(\"Cylinders\")"
   ]
  },
  {
   "cell_type": "code",
   "execution_count": null,
   "id": "8f79937e",
   "metadata": {},
   "outputs": [],
   "source": [
    "df[\"Cylinders\"].fillna(\"-\", inplace=True)"
   ]
  },
  {
   "cell_type": "code",
   "execution_count": null,
   "id": "0d35c463",
   "metadata": {},
   "outputs": [],
   "source": [
    "df.groupby([\"make_model\", \"body_type\", \"age\", \"Cylinders\"]).price.describe()"
   ]
  },
  {
   "cell_type": "code",
   "execution_count": null,
   "id": "65e9baf6",
   "metadata": {},
   "outputs": [],
   "source": [
    "df.drop(\"Cylinders\", axis=1, inplace=True)"
   ]
  },
  {
   "cell_type": "code",
   "execution_count": null,
   "id": "ed18b456",
   "metadata": {},
   "outputs": [],
   "source": [
    "first_looking(\"Drive_chain\")"
   ]
  },
  {
   "cell_type": "code",
   "execution_count": null,
   "id": "46d5a792",
   "metadata": {},
   "outputs": [],
   "source": [
    "df[\"Drive_chain\"].fillna(\"-\", inplace=True)"
   ]
  },
  {
   "cell_type": "code",
   "execution_count": null,
   "id": "a97ad90a",
   "metadata": {},
   "outputs": [],
   "source": [
    "df.groupby([\"make_model\", \"body_type\", \"Drive_chain\"]).price.describe()"
   ]
  },
  {
   "cell_type": "code",
   "execution_count": null,
   "id": "1d8d23a5",
   "metadata": {},
   "outputs": [],
   "source": [
    "cond = (df['make_model'] == \"Renault Duster\") & (df[\"body_type\"] == \"Off-Road\")"
   ]
  },
  {
   "cell_type": "code",
   "execution_count": null,
   "id": "3fce7e18",
   "metadata": {},
   "outputs": [],
   "source": [
    "df.loc[cond, 'Drive_chain'] = df.loc[cond, 'Drive_chain'].replace('-', '4WD')"
   ]
  },
  {
   "cell_type": "code",
   "execution_count": null,
   "id": "b0968c5c",
   "metadata": {},
   "outputs": [],
   "source": [
    "df[\"Drive_chain\"].value_counts(dropna=False)"
   ]
  },
  {
   "cell_type": "code",
   "execution_count": null,
   "id": "4918f86e",
   "metadata": {},
   "outputs": [],
   "source": [
    "df[\"Drive_chain\"] = df[\"Drive_chain\"].replace('-', np.nan)"
   ]
  },
  {
   "cell_type": "code",
   "execution_count": null,
   "id": "39585a7b",
   "metadata": {},
   "outputs": [],
   "source": [
    "df[\"Drive_chain\"].value_counts(dropna=False)"
   ]
  },
  {
   "cell_type": "code",
   "execution_count": null,
   "id": "40aecd51",
   "metadata": {},
   "outputs": [],
   "source": [
    "fill(df, \"make_model\", \"body_type\", \"Drive_chain\", \"mode\")"
   ]
  },
  {
   "cell_type": "code",
   "execution_count": null,
   "id": "37b193c0",
   "metadata": {},
   "outputs": [],
   "source": [
    "first_looking(\"Emission_Class\")"
   ]
  },
  {
   "cell_type": "code",
   "execution_count": null,
   "id": "9d81d9c1",
   "metadata": {},
   "outputs": [],
   "source": [
    "df[\"Emission_Class\"].fillna(\"-\", inplace=True)"
   ]
  },
  {
   "cell_type": "code",
   "execution_count": null,
   "id": "b0be9490",
   "metadata": {},
   "outputs": [],
   "source": [
    "df.groupby([\"make_model\", \"age\", \"Fuel\", \"Emission_Class\"]).price.describe()"
   ]
  },
  {
   "cell_type": "code",
   "execution_count": null,
   "id": "6ee0235d",
   "metadata": {},
   "outputs": [],
   "source": [
    "df.drop(\"Emission_Class\", axis=1, inplace=True)"
   ]
  },
  {
   "cell_type": "code",
   "execution_count": null,
   "id": "ea2c6ba9",
   "metadata": {},
   "outputs": [],
   "source": [
    "first_looking(\"Gears\")"
   ]
  },
  {
   "cell_type": "code",
   "execution_count": null,
   "id": "d3c67123",
   "metadata": {},
   "outputs": [],
   "source": [
    "df[\"Gears\"].fillna(\"-\", inplace=True)"
   ]
  },
  {
   "cell_type": "code",
   "execution_count": null,
   "id": "1a73b18a",
   "metadata": {},
   "outputs": [],
   "source": [
    "df.groupby([\"make_model\", \"body_type\", \"Gearing_Type\", \"Gears\"]).price.describe()"
   ]
  },
  {
   "cell_type": "code",
   "execution_count": null,
   "id": "e43c4e89",
   "metadata": {},
   "outputs": [],
   "source": [
    "df[\"Gears\"].replace(\"-\", np.nan, inplace=True)"
   ]
  },
  {
   "cell_type": "code",
   "execution_count": null,
   "id": "0bb8d130",
   "metadata": {},
   "outputs": [],
   "source": [
    "for group1 in df[\"make_model\"].unique():\n",
    "    for group2 in df[\"body_type\"].unique():\n",
    "        for group3 in df[\"Gearing_Type\"].unique():\n",
    "            cond1 = df[\"make_model\"]==group1\n",
    "            cond2 = (df[\"make_model\"]==group1) & (df[\"body_type\"]==group2)\n",
    "            cond3 = (df[\"make_model\"]==group1) & (df[\"body_type\"]==group2) & (df[\"Gearing_Type\"]==group3)\n",
    "            mode1 = list(df[cond1][\"Gears\"].mode())\n",
    "            mode2 = list(df[cond2][\"Gears\"].mode())\n",
    "            mode3 = list(df[cond3][\"Gears\"].mode())\n",
    "            if mode3 != []:\n",
    "                df.loc[cond3, \"Gears\"] = df.loc[cond3, \"Gears\"].fillna(df[cond3][\"Gears\"].mode()[0])\n",
    "            elif mode2 != []:\n",
    "                df.loc[cond3, \"Gears\"] = df.loc[cond3, \"Gears\"].fillna(df[cond2][\"Gears\"].mode()[0])\n",
    "            elif mode1 != []:\n",
    "                df.loc[cond3, \"Gears\"] = df.loc[cond3, \"Gears\"].fillna(df[cond1][\"Gears\"].mode()[0])\n",
    "            else:\n",
    "                df.loc[cond3, \"Gears\"] = df.loc[cond3, \"Gears\"].fillna(df[\"Gears\"].mode()[0])"
   ]
  },
  {
   "cell_type": "code",
   "execution_count": null,
   "id": "4aa9b6f2",
   "metadata": {},
   "outputs": [],
   "source": [
    "df[\"Gears\"].value_counts(dropna=False)"
   ]
  },
  {
   "cell_type": "code",
   "execution_count": null,
   "id": "204cdaf2",
   "metadata": {},
   "outputs": [],
   "source": [
    "first_looking(\"hp_kW\")"
   ]
  },
  {
   "cell_type": "code",
   "execution_count": null,
   "id": "6d613dea",
   "metadata": {},
   "outputs": [],
   "source": [
    "df[\"hp_kW\"].fillna(\"-\", inplace=True)"
   ]
  },
  {
   "cell_type": "code",
   "execution_count": null,
   "id": "f5ba2a8c",
   "metadata": {},
   "outputs": [],
   "source": [
    "df.groupby([\"make_model\", \"body_type\",\"hp_kW\"]).price.describe()"
   ]
  },
  {
   "cell_type": "code",
   "execution_count": null,
   "id": "931af9c0",
   "metadata": {},
   "outputs": [],
   "source": [
    "df[\"hp_kW\"].replace([\"-\"], np.nan, inplace=True)"
   ]
  },
  {
   "cell_type": "code",
   "execution_count": null,
   "id": "5914709b",
   "metadata": {},
   "outputs": [],
   "source": [
    "fill(df, \"make_model\", \"body_type\", \"hp_kW\", \"mode\")"
   ]
  },
  {
   "cell_type": "code",
   "execution_count": null,
   "id": "620b1efa",
   "metadata": {},
   "outputs": [],
   "source": [
    "first_looking(\"Displacement_cc\")"
   ]
  },
  {
   "cell_type": "code",
   "execution_count": null,
   "id": "26459673",
   "metadata": {},
   "outputs": [],
   "source": [
    "df[\"Displacement_cc\"].fillna(\"-\", inplace=True)"
   ]
  },
  {
   "cell_type": "code",
   "execution_count": null,
   "id": "766ce4e8",
   "metadata": {},
   "outputs": [],
   "source": [
    "df.groupby([\"make_model\", \"body_type\",\"Displacement_cc\"]).price.describe()"
   ]
  },
  {
   "cell_type": "code",
   "execution_count": null,
   "id": "d046b464",
   "metadata": {},
   "outputs": [],
   "source": [
    "df[\"Displacement_cc\"].replace(\"-\", np.nan, inplace=True)"
   ]
  },
  {
   "cell_type": "code",
   "execution_count": null,
   "id": "89e34b76",
   "metadata": {},
   "outputs": [],
   "source": [
    "fill(df, \"make_model\", \"body_type\", \"Displacement_cc\", \"mode\")"
   ]
  },
  {
   "cell_type": "code",
   "execution_count": null,
   "id": "cd5a303d",
   "metadata": {},
   "outputs": [],
   "source": [
    "first_looking(\"Weight_kg\")"
   ]
  },
  {
   "cell_type": "code",
   "execution_count": null,
   "id": "c3682b44",
   "metadata": {},
   "outputs": [],
   "source": [
    "df[\"Weight_kg\"].fillna(\"-\", inplace=True)"
   ]
  },
  {
   "cell_type": "code",
   "execution_count": null,
   "id": "a5e40bfb",
   "metadata": {},
   "outputs": [],
   "source": [
    "df.groupby([\"make_model\", \"body_type\",\"Weight_kg\"]).price.describe()"
   ]
  },
  {
   "cell_type": "code",
   "execution_count": null,
   "id": "47785a8c",
   "metadata": {},
   "outputs": [],
   "source": [
    "df[\"Weight_kg\"].replace(\"-\", np.nan, inplace=True)"
   ]
  },
  {
   "cell_type": "code",
   "execution_count": null,
   "id": "fd1e1c0c",
   "metadata": {},
   "outputs": [],
   "source": [
    "fill(df, \"make_model\", \"body_type\", \"Weight_kg\", \"mode\")"
   ]
  },
  {
   "cell_type": "code",
   "execution_count": null,
   "id": "ce587c3b",
   "metadata": {},
   "outputs": [],
   "source": [
    "first_looking(\"CO2_Emission\")"
   ]
  },
  {
   "cell_type": "code",
   "execution_count": null,
   "id": "bd19fc0a",
   "metadata": {},
   "outputs": [],
   "source": [
    "df[\"CO2_Emission\"].fillna(\"-\", inplace=True)"
   ]
  },
  {
   "cell_type": "code",
   "execution_count": null,
   "id": "db3bd335",
   "metadata": {},
   "outputs": [],
   "source": [
    "df.groupby([\"make_model\", \"body_type\", \"Fuel\", \"CO2_Emission\"]).price.describe()"
   ]
  },
  {
   "cell_type": "code",
   "execution_count": null,
   "id": "01538d81",
   "metadata": {},
   "outputs": [],
   "source": [
    "df.groupby([\"Fuel\", \"make_model\", \"body_type\", \"CO2_Emission\"]).price.describe().loc[\"Electric\"]"
   ]
  },
  {
   "cell_type": "code",
   "execution_count": null,
   "id": "bebc3b40",
   "metadata": {},
   "outputs": [],
   "source": [
    "df[\"CO2_Emission\"].replace(\"-\", np.nan, inplace=True)"
   ]
  },
  {
   "cell_type": "code",
   "execution_count": null,
   "id": "a2a310bd",
   "metadata": {},
   "outputs": [],
   "source": [
    "df.loc[df.Fuel == \"Electric\", \"CO2_Emission\"]"
   ]
  },
  {
   "cell_type": "code",
   "execution_count": null,
   "id": "1ff3e490",
   "metadata": {},
   "outputs": [],
   "source": [
    "df.loc[df.Fuel == \"Electric\", \"CO2_Emission\"] = df.loc[df.Fuel == \"Electric\", \"CO2_Emission\"].fillna(df.loc[df.Fuel == \"Electric\", \"CO2_Emission\"].mode()[0])\n",
    "df.loc[df.Fuel == \"Electric\", \"CO2_Emission\"]"
   ]
  },
  {
   "cell_type": "code",
   "execution_count": null,
   "id": "58a4b8e1",
   "metadata": {},
   "outputs": [],
   "source": [
    "df['CO2_Emission'].fillna(df.groupby([\"make_model\", \"body_type\", \"Fuel\"])[\"CO2_Emission\"].transform(\"median\"), inplace = True)\n",
    "df['CO2_Emission'].fillna(df.groupby([\"make_model\", \"body_type\"])[\"CO2_Emission\"].transform(\"median\"), inplace = True)\n",
    "df['CO2_Emission'].fillna(df.groupby(\"make_model\")[\"CO2_Emission\"].transform(\"median\"), inplace = True)\n",
    "df['CO2_Emission'].fillna(df[\"CO2_Emission\"].median(), inplace = True)"
   ]
  },
  {
   "cell_type": "code",
   "execution_count": null,
   "id": "44865cae",
   "metadata": {},
   "outputs": [],
   "source": [
    "df[\"CO2_Emission\"].value_counts(dropna=False)"
   ]
  },
  {
   "cell_type": "code",
   "execution_count": null,
   "id": "eb970ad7",
   "metadata": {},
   "outputs": [],
   "source": [
    "def fill_median(df, group_col1, group_col2, group_col3, col_name):\n",
    "    \n",
    "    df[col_name].fillna(df.groupby([group_col1, group_col2, group_col3])[col_name].transform(\"median\"), inplace = True)\n",
    "    df[col_name].fillna(df.groupby([group_col1, group_col2])[col_name].transform(\"median\"), inplace = True)\n",
    "    df[col_name].fillna(df.groupby(group_col1)[col_name].transform(\"median\"), inplace = True)\n",
    "    df[col_name].fillna(df[col_name].median(), inplace = True)\n",
    "\n",
    "    print(\"Number of NaN : \", df[col_name].isnull().sum())\n",
    "    print(\"------------------\")\n",
    "    print(df[col_name].value_counts(dropna=False))        "
   ]
  },
  {
   "cell_type": "code",
   "execution_count": null,
   "id": "96c66f41",
   "metadata": {},
   "outputs": [],
   "source": [
    "fill_median(df, \"make_model\", \"body_type\", \"Fuel\", \"CO2_Emission\")"
   ]
  },
  {
   "cell_type": "code",
   "execution_count": null,
   "id": "d2fd2e7d",
   "metadata": {},
   "outputs": [],
   "source": [
    "first_looking(\"Comfort_Convenience\")"
   ]
  },
  {
   "cell_type": "code",
   "execution_count": null,
   "id": "ce9bc5f3",
   "metadata": {},
   "outputs": [],
   "source": [
    "fill(df, \"make_model\", \"body_type\", \"Comfort_Convenience\", \"mode\")"
   ]
  },
  {
   "cell_type": "code",
   "execution_count": null,
   "id": "d00676e4",
   "metadata": {},
   "outputs": [],
   "source": [
    "first_looking(\"Entertainment_Media\")"
   ]
  },
  {
   "cell_type": "code",
   "execution_count": null,
   "id": "05e3dc01",
   "metadata": {},
   "outputs": [],
   "source": [
    "fill(df, \"make_model\", \"body_type\", \"Entertainment_Media\", \"mode\")"
   ]
  },
  {
   "cell_type": "code",
   "execution_count": null,
   "id": "782ce439",
   "metadata": {},
   "outputs": [],
   "source": [
    "first_looking(\"Extras\")"
   ]
  },
  {
   "cell_type": "code",
   "execution_count": null,
   "id": "20e52100",
   "metadata": {},
   "outputs": [],
   "source": [
    "fill(df, \"make_model\", \"body_type\", \"Extras\", \"mode\")"
   ]
  },
  {
   "cell_type": "code",
   "execution_count": null,
   "id": "aad7da77",
   "metadata": {},
   "outputs": [],
   "source": [
    "first_looking(\"Safety_Security\")"
   ]
  },
  {
   "cell_type": "code",
   "execution_count": null,
   "id": "d9eae5c5",
   "metadata": {},
   "outputs": [],
   "source": [
    "fill(df, \"make_model\", \"body_type\", \"Safety_Security\", \"mode\")"
   ]
  },
  {
   "cell_type": "code",
   "execution_count": null,
   "id": "7e0f628f",
   "metadata": {},
   "outputs": [],
   "source": [
    "first_looking(\"cons_comb\")"
   ]
  },
  {
   "cell_type": "code",
   "execution_count": null,
   "id": "fd0b6a5e",
   "metadata": {},
   "outputs": [],
   "source": [
    "cons_comb_2 = (df[\"cons_country\"] + df[\"cons_city\"])/2\n",
    "cons_comb_2.value_counts(dropna=False)"
   ]
  },
  {
   "cell_type": "code",
   "execution_count": null,
   "id": "96d67612",
   "metadata": {},
   "outputs": [],
   "source": [
    "df[\"cons_comb\"] = df[\"cons_comb\"].fillna(cons_comb_2)"
   ]
  },
  {
   "cell_type": "code",
   "execution_count": null,
   "id": "354bb78f",
   "metadata": {},
   "outputs": [],
   "source": [
    "df[\"cons_comb\"].value_counts(dropna=False)"
   ]
  },
  {
   "cell_type": "code",
   "execution_count": null,
   "id": "54162624",
   "metadata": {},
   "outputs": [],
   "source": [
    "df[\"cons_comb\"].fillna(\"-\", inplace=True)"
   ]
  },
  {
   "cell_type": "code",
   "execution_count": null,
   "id": "0250e5e0",
   "metadata": {},
   "outputs": [],
   "source": [
    "df.groupby([\"make_model\", \"body_type\", \"Fuel\", \"cons_comb\"]).price.describe()"
   ]
  },
  {
   "cell_type": "code",
   "execution_count": null,
   "id": "56212248",
   "metadata": {},
   "outputs": [],
   "source": [
    "df.groupby([\"Fuel\", \"make_model\", \"body_type\", \"cons_comb\"]).price.describe().loc[\"Electric\"]"
   ]
  },
  {
   "cell_type": "code",
   "execution_count": null,
   "id": "09cdcd23",
   "metadata": {},
   "outputs": [],
   "source": [
    "df[\"cons_comb\"].replace([0.0, 1.0, 1.2, 10, 11, 13.8, 32.0, 33.0, 38.0, 40.0, 43.0, 46.0, 50.0, 51.0, 54.0, 55.0, \"-\"], np.nan, inplace=True)"
   ]
  },
  {
   "cell_type": "code",
   "execution_count": null,
   "id": "1da890af",
   "metadata": {},
   "outputs": [],
   "source": [
    "df.loc[df.Fuel == \"Electric\", \"cons_comb\"]"
   ]
  },
  {
   "cell_type": "code",
   "execution_count": null,
   "id": "423fe32c",
   "metadata": {},
   "outputs": [],
   "source": [
    "df.loc[df.Fuel == \"Electric\", \"cons_comb\"] = df.loc[df.Fuel == \"Electric\", \"cons_comb\"].fillna(df.loc[df.Fuel == \"Electric\", \"cons_comb\"].mode()[0])\n",
    "df.loc[df.Fuel == \"Electric\", \"cons_comb\"]"
   ]
  },
  {
   "cell_type": "code",
   "execution_count": null,
   "id": "ed611aff",
   "metadata": {},
   "outputs": [],
   "source": [
    "df[\"cons_comb\"].value_counts(dropna=False)"
   ]
  },
  {
   "cell_type": "code",
   "execution_count": null,
   "id": "339fd818",
   "metadata": {},
   "outputs": [],
   "source": [
    "fill_median(df, \"make_model\", \"body_type\", \"Fuel\", \"cons_comb\")"
   ]
  },
  {
   "cell_type": "code",
   "execution_count": null,
   "id": "be3c2158",
   "metadata": {},
   "outputs": [],
   "source": [
    "df.drop(\"cons_country\", axis = 1, inplace = True)"
   ]
  },
  {
   "cell_type": "code",
   "execution_count": null,
   "id": "791cf6b9",
   "metadata": {},
   "outputs": [],
   "source": [
    "df.drop(\"cons_city\", axis = 1, inplace = True)"
   ]
  },
  {
   "cell_type": "code",
   "execution_count": null,
   "id": "9de91d63",
   "metadata": {},
   "outputs": [],
   "source": [
    "df.shape"
   ]
  },
  {
   "cell_type": "code",
   "execution_count": null,
   "id": "2ad05df6",
   "metadata": {},
   "outputs": [],
   "source": [
    "df.isnull().sum()*100 / df.shape[0]"
   ]
  },
  {
   "cell_type": "code",
   "execution_count": null,
   "id": "e6acb44c",
   "metadata": {},
   "outputs": [],
   "source": [
    "df.to_csv(\"filled_scout.csv\", index=False)"
   ]
  }
 ],
 "metadata": {
  "kernelspec": {
   "display_name": "Python 3 (ipykernel)",
   "language": "python",
   "name": "python3"
  },
  "language_info": {
   "codemirror_mode": {
    "name": "ipython",
    "version": 3
   },
   "file_extension": ".py",
   "mimetype": "text/x-python",
   "name": "python",
   "nbconvert_exporter": "python",
   "pygments_lexer": "ipython3",
   "version": "3.8.12"
  }
 },
 "nbformat": 4,
 "nbformat_minor": 5
}

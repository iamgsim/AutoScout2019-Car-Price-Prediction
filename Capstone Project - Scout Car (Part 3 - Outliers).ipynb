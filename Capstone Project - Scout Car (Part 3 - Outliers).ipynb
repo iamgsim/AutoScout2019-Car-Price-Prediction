{
 "cells": [
  {
   "cell_type": "code",
   "execution_count": null,
   "id": "3b3550cb",
   "metadata": {},
   "outputs": [],
   "source": [
    "import numpy as np\n",
    "import pandas as pd\n",
    "import matplotlib.pyplot as plt\n",
    "import seaborn as sns \n",
    "from scipy import stats\n",
    "from scipy.stats.mstats import winsorize\n",
    "\n",
    "import warnings\n",
    "warnings.filterwarnings('ignore')\n",
    "warnings.warn(\"this will not show\")\n",
    "\n",
    "%matplotlib inline\n",
    "# %matplotlib notebook\n",
    "\n",
    "plt.rcParams[\"figure.figsize\"] = (10, 6)\n",
    "# plt.rcParams['figure.dpi'] = 100\n",
    "\n",
    "sns.set_style(\"whitegrid\")\n",
    "pd.set_option('display.float_format', lambda x: '%.3f' % x)\n",
    "\n",
    "pd.options.display.max_rows = 1000\n",
    "pd.options.display.max_columns = 150"
   ]
  },
  {
   "cell_type": "code",
   "execution_count": null,
   "id": "27883489",
   "metadata": {},
   "outputs": [],
   "source": [
    "# function for first looking to the columns\n",
    "\n",
    "def first_looking(col):\n",
    "    print(\"column name    : \", col)\n",
    "    print(\"--------------------------------\")\n",
    "    print(\"per_of_nulls   : \", \"%\", round(df[col].isnull().sum()*100 / df.shape[0], 2))\n",
    "    print(\"num_of_nulls   : \", df[col].isnull().sum())\n",
    "    print(\"num_of_uniques : \", df[col].nunique())\n",
    "    print(\"--------------------------------\")\n",
    "    print(df[col].value_counts(dropna = False))"
   ]
  },
  {
   "cell_type": "code",
   "execution_count": null,
   "id": "ba78a266",
   "metadata": {},
   "outputs": [],
   "source": [
    "def fill_most(df, group_col, col_name):\n",
    "    '''Fills the missing values with the most existing value (mode) in the relevant column according to single-stage grouping'''\n",
    "    for group in list(df[group_col].unique()):\n",
    "        cond = df[group_col]==group\n",
    "        mode = list(df[cond][col_name].mode())\n",
    "        if mode != []:\n",
    "            df.loc[cond, col_name] = df.loc[cond, col_name].fillna(df[cond][col_name].mode()[0])\n",
    "        else:\n",
    "            df.loc[cond, col_name] = df.loc[cond, col_name].fillna(df[col_name].mode()[0])\n",
    "    print(\"Number of NaN : \", df[col_name].isnull().sum())\n",
    "    print(\"------------------\")\n",
    "    print(df[col_name].value_counts(dropna=False))"
   ]
  },
  {
   "cell_type": "code",
   "execution_count": null,
   "id": "86f8cb9b",
   "metadata": {},
   "outputs": [],
   "source": [
    "def fill_prop(df, group_col, col_name):\n",
    "    for group in list(df[group_col].unique()):\n",
    "        cond = df[group_col]==group\n",
    "        df.loc[cond, col_name] = df.loc[cond, col_name].fillna(method=\"ffill\").fillna(method=\"bfill\")\n",
    "    df[col_name] = df[col_name].fillna(method=\"ffill\").fillna(method=\"bfill\")\n",
    "    print(\"Number of NaN : \", df[col_name].isnull().sum())\n",
    "    print(\"------------------\")\n",
    "    print(df[col_name].value_counts(dropna=False))"
   ]
  },
  {
   "cell_type": "code",
   "execution_count": null,
   "id": "9422a5ff",
   "metadata": {},
   "outputs": [],
   "source": [
    "def fill(df, group_col1, group_col2, col_name, method): # method can be either \"mode\" or \"mean\" or \"median\" or \"ffill\"\n",
    "    \n",
    "    '''Fills the missing values with \"mode/mean/median/ffill/bfill method\" according to double-stage grouping'''\n",
    "    \n",
    "    if method == \"mode\":\n",
    "        for group1 in list(df[group_col1].unique()):\n",
    "            for group2 in list(df[group_col2].unique()):\n",
    "                cond1 = df[group_col1]==group1\n",
    "                cond2 = (df[group_col1]==group1) & (df[group_col2]==group2)\n",
    "                mode1 = list(df[cond1][col_name].mode())\n",
    "                mode2 = list(df[cond2][col_name].mode())\n",
    "                if mode2 != []:\n",
    "                    df.loc[cond2, col_name] = df.loc[cond2, col_name].fillna(df[cond2][col_name].mode()[0])\n",
    "                elif mode1 != []:\n",
    "                    df.loc[cond2, col_name] = df.loc[cond2, col_name].fillna(df[cond1][col_name].mode()[0])\n",
    "                else:\n",
    "                    df.loc[cond2, col_name] = df.loc[cond2, col_name].fillna(df[col_name].mode()[0])\n",
    "\n",
    "    elif method == \"mean\":\n",
    "        df[col_name].fillna(df.groupby([group_col1, group_col2])[col_name].transform(\"mean\"), inplace = True)\n",
    "        df[col_name].fillna(df.groupby(group_col1)[col_name].transform(\"mean\"), inplace = True)\n",
    "        df[col_name].fillna(df[col_name].mean(), inplace = True)\n",
    "        \n",
    "    elif method == \"median\":\n",
    "        df[col_name].fillna(df.groupby([group_col1, group_col2])[col_name].transform(\"median\"), inplace = True)\n",
    "        df[col_name].fillna(df.groupby(group_col1)[col_name].transform(\"median\"), inplace = True)\n",
    "        df[col_name].fillna(df[col_name].median(), inplace = True)\n",
    "        \n",
    "    elif method == \"ffill\":           \n",
    "        for group1 in list(df[group_col1].unique()):\n",
    "            for group2 in list(df[group_col2].unique()):\n",
    "                cond2 = (df[group_col1]==group1) & (df[group_col2]==group2)\n",
    "                df.loc[cond2, col_name] = df.loc[cond2, col_name].fillna(method=\"ffill\").fillna(method=\"bfill\")\n",
    "                \n",
    "        for group1 in list(df[group_col1].unique()):\n",
    "            cond1 = df[group_col1]==group1\n",
    "            df.loc[cond1, col_name] = df.loc[cond1, col_name].fillna(method=\"ffill\").fillna(method=\"bfill\")            \n",
    "           \n",
    "        df[col_name] = df[col_name].fillna(method=\"ffill\").fillna(method=\"bfill\")\n",
    "    \n",
    "    print(\"Number of NaN : \",df[col_name].isnull().sum())\n",
    "    print(\"------------------\")\n",
    "    print(df[col_name].value_counts(dropna=False))"
   ]
  },
  {
   "cell_type": "code",
   "execution_count": null,
   "id": "73e82b4d",
   "metadata": {},
   "outputs": [],
   "source": [
    "df = pd.read_csv(\"filled_scout.csv\")"
   ]
  },
  {
   "cell_type": "code",
   "execution_count": null,
   "id": "41d4eceb",
   "metadata": {},
   "outputs": [],
   "source": [
    "df.shape"
   ]
  },
  {
   "cell_type": "code",
   "execution_count": null,
   "id": "064feeba",
   "metadata": {},
   "outputs": [],
   "source": [
    "df.head(3).T"
   ]
  },
  {
   "cell_type": "code",
   "execution_count": null,
   "id": "e32f2a6d",
   "metadata": {},
   "outputs": [],
   "source": [
    "first_looking(\"km\")"
   ]
  },
  {
   "cell_type": "code",
   "execution_count": null,
   "id": "50064f9f",
   "metadata": {},
   "outputs": [],
   "source": [
    "plt.figure(figsize=(18, 6))\n",
    "\n",
    "plt.subplot(141)\n",
    "plt.hist(df.km, bins=50)\n",
    "\n",
    "plt.subplot(142)\n",
    "plt.boxplot(df.km)\n",
    "\n",
    "plt.subplot(143)\n",
    "plt.boxplot(df.km, whis=2.5)\n",
    "\n",
    "plt.subplot(144)\n",
    "plt.boxplot(np.log(df.km), whis=2.5)\n",
    "\n",
    "plt.show()"
   ]
  },
  {
   "cell_type": "code",
   "execution_count": null,
   "id": "8d9fce2d",
   "metadata": {},
   "outputs": [],
   "source": [
    "first_looking(\"Gears\")"
   ]
  },
  {
   "cell_type": "code",
   "execution_count": null,
   "id": "71d62442",
   "metadata": {},
   "outputs": [],
   "source": [
    "plt.figure(figsize=(20, 6))\n",
    "\n",
    "plt.subplot(121)\n",
    "plt.hist(df.Gears, bins=50)\n",
    "\n",
    "plt.subplot(122)\n",
    "plt.boxplot(df.Gears, whis=2.5)\n",
    "\n",
    "plt.show()"
   ]
  },
  {
   "cell_type": "code",
   "execution_count": null,
   "id": "d8561b30",
   "metadata": {},
   "outputs": [],
   "source": [
    "df.Gears.describe()"
   ]
  },
  {
   "cell_type": "code",
   "execution_count": null,
   "id": "4e0a808f",
   "metadata": {},
   "outputs": [],
   "source": [
    "df.sort_values(by=[\"Gears\"], ascending=False)[\"Gears\"].head(10)"
   ]
  },
  {
   "cell_type": "code",
   "execution_count": null,
   "id": "fb0772c1",
   "metadata": {},
   "outputs": [],
   "source": [
    "df.sort_values(by=[\"Gears\"], ascending=True)[\"Gears\"].head(10)"
   ]
  },
  {
   "cell_type": "code",
   "execution_count": null,
   "id": "a239dcef",
   "metadata": {},
   "outputs": [],
   "source": [
    "df[(df.Gears < 5) | (df.Gears > 8)][[\"make_model\", \"body_type\", \"Gearing_Type\", \"Gears\"]]"
   ]
  },
  {
   "cell_type": "code",
   "execution_count": null,
   "id": "ac659b26",
   "metadata": {},
   "outputs": [],
   "source": [
    "df[(df.make_model == \"Renault Espace\")][[\"make_model\", \"body_type\", \"Gearing_Type\", \"Gears\"]]"
   ]
  },
  {
   "cell_type": "code",
   "execution_count": null,
   "id": "e1cab681",
   "metadata": {},
   "outputs": [],
   "source": [
    "df[\"Gears\"].replace([1, 2, 3, 4, 9, 50], np.nan, inplace=True)"
   ]
  },
  {
   "cell_type": "code",
   "execution_count": null,
   "id": "f627cdf9",
   "metadata": {},
   "outputs": [],
   "source": [
    "df.Gears.isnull().sum()"
   ]
  },
  {
   "cell_type": "code",
   "execution_count": null,
   "id": "d5e13816",
   "metadata": {},
   "outputs": [],
   "source": [
    "fill(df, \"make_model\", \"body_type\", \"Gears\", \"mode\")"
   ]
  },
  {
   "cell_type": "code",
   "execution_count": null,
   "id": "69ba5ce0",
   "metadata": {},
   "outputs": [],
   "source": [
    "plt.figure(figsize=(20, 6))\n",
    "\n",
    "plt.subplot(121)\n",
    "plt.hist(df.Gears, bins=50)\n",
    "\n",
    "plt.subplot(122)\n",
    "plt.boxplot(df.Gears, whis=1.5)\n",
    "\n",
    "plt.show()"
   ]
  },
  {
   "cell_type": "code",
   "execution_count": null,
   "id": "0e692884",
   "metadata": {},
   "outputs": [],
   "source": [
    "first_looking(\"Displacement_cc\")"
   ]
  },
  {
   "cell_type": "code",
   "execution_count": null,
   "id": "089f1f68",
   "metadata": {},
   "outputs": [],
   "source": [
    "plt.figure(figsize=(20, 6))\n",
    "\n",
    "plt.subplot(121)\n",
    "plt.hist(df.Displacement_cc, bins=50)\n",
    "\n",
    "plt.subplot(122)\n",
    "plt.boxplot(df.Displacement_cc, whis=2.5)\n",
    "\n",
    "plt.show()"
   ]
  },
  {
   "cell_type": "code",
   "execution_count": null,
   "id": "b004716c",
   "metadata": {},
   "outputs": [],
   "source": [
    "df.Displacement_cc.describe()"
   ]
  },
  {
   "cell_type": "code",
   "execution_count": null,
   "id": "38405512",
   "metadata": {},
   "outputs": [],
   "source": [
    "df.sort_values(by=[\"Displacement_cc\"], ascending=False)[\"Displacement_cc\"].head(5)"
   ]
  },
  {
   "cell_type": "code",
   "execution_count": null,
   "id": "7332cc2e",
   "metadata": {},
   "outputs": [],
   "source": [
    "df.sort_values(by=[\"Displacement_cc\"], ascending=True)[\"Displacement_cc\"].head(55)"
   ]
  },
  {
   "cell_type": "code",
   "execution_count": null,
   "id": "707d2ab0",
   "metadata": {},
   "outputs": [],
   "source": [
    "outlier_bool_list = df.Displacement_cc.isin([1, 2, 54, 122, 139, 140, 160, 16000, 15898])"
   ]
  },
  {
   "cell_type": "code",
   "execution_count": null,
   "id": "eff19f6a",
   "metadata": {},
   "outputs": [],
   "source": [
    "outlier_bool_list"
   ]
  },
  {
   "cell_type": "code",
   "execution_count": null,
   "id": "1f11d049",
   "metadata": {},
   "outputs": [],
   "source": [
    "df.loc[outlier_bool_list, \"Displacement_cc\"] = np.nan"
   ]
  },
  {
   "cell_type": "code",
   "execution_count": null,
   "id": "701e412a",
   "metadata": {},
   "outputs": [],
   "source": [
    "df.Displacement_cc.isnull().sum()"
   ]
  },
  {
   "cell_type": "code",
   "execution_count": null,
   "id": "d009b4df",
   "metadata": {},
   "outputs": [],
   "source": [
    "fill(df, \"make_model\", \"body_type\", \"Displacement_cc\", \"mode\")"
   ]
  },
  {
   "cell_type": "code",
   "execution_count": null,
   "id": "299eba3b",
   "metadata": {},
   "outputs": [],
   "source": [
    "plt.figure(figsize=(20, 6))\n",
    "\n",
    "plt.subplot(121)\n",
    "plt.hist(df.Displacement_cc, bins=20)\n",
    "\n",
    "plt.subplot(122)\n",
    "plt.boxplot(df.Displacement_cc, whis=2.5)\n",
    "\n",
    "plt.show()"
   ]
  },
  {
   "cell_type": "code",
   "execution_count": null,
   "id": "bc2de90f",
   "metadata": {},
   "outputs": [],
   "source": [
    "first_looking(\"Weight_kg\")"
   ]
  },
  {
   "cell_type": "code",
   "execution_count": null,
   "id": "ec22fc53",
   "metadata": {},
   "outputs": [],
   "source": [
    "plt.figure(figsize=(20, 6))\n",
    "\n",
    "plt.subplot(121)\n",
    "plt.hist(df.Weight_kg, bins=15)\n",
    "\n",
    "plt.subplot(122)\n",
    "plt.boxplot(df.Weight_kg, whis=2.5)\n",
    "\n",
    "plt.show()"
   ]
  },
  {
   "cell_type": "code",
   "execution_count": null,
   "id": "40ddc987",
   "metadata": {},
   "outputs": [],
   "source": [
    "df.Weight_kg.describe()"
   ]
  },
  {
   "cell_type": "code",
   "execution_count": null,
   "id": "a312af57",
   "metadata": {},
   "outputs": [],
   "source": [
    "df[\"Weight_kg\"].sort_values().head(10)"
   ]
  },
  {
   "cell_type": "code",
   "execution_count": null,
   "id": "c340e222",
   "metadata": {},
   "outputs": [],
   "source": [
    "df[\"Weight_kg\"].replace([1, 102], np.nan, inplace = True)"
   ]
  },
  {
   "cell_type": "code",
   "execution_count": null,
   "id": "28dc451b",
   "metadata": {},
   "outputs": [],
   "source": [
    "df[\"Weight_kg\"].isnull().sum()"
   ]
  },
  {
   "cell_type": "code",
   "execution_count": null,
   "id": "50e2a404",
   "metadata": {},
   "outputs": [],
   "source": [
    "fill(df, \"make_model\", \"body_type\", \"Weight_kg\", \"mode\")"
   ]
  },
  {
   "cell_type": "code",
   "execution_count": null,
   "id": "8bb97a38",
   "metadata": {},
   "outputs": [],
   "source": [
    "df[\"Weight_kg\"].isnull().sum()"
   ]
  },
  {
   "cell_type": "code",
   "execution_count": null,
   "id": "f1e82fb5",
   "metadata": {},
   "outputs": [],
   "source": [
    "plt.figure(figsize=(20, 6))\n",
    "\n",
    "plt.subplot(121)\n",
    "plt.hist(df.Weight_kg, bins=15)\n",
    "\n",
    "plt.subplot(122)\n",
    "plt.boxplot(df.Weight_kg, whis=2.5)\n",
    "\n",
    "plt.show()"
   ]
  },
  {
   "cell_type": "code",
   "execution_count": null,
   "id": "1637c914",
   "metadata": {},
   "outputs": [],
   "source": [
    "first_looking(\"hp_kW\")"
   ]
  },
  {
   "cell_type": "code",
   "execution_count": null,
   "id": "dfbe8e2c",
   "metadata": {},
   "outputs": [],
   "source": [
    "plt.figure(figsize=(20, 6))\n",
    "\n",
    "plt.subplot(121)\n",
    "plt.hist(df.hp_kW, bins=15)\n",
    "\n",
    "plt.subplot(122)\n",
    "plt.boxplot(df.hp_kW, whis=2.5)\n",
    "\n",
    "plt.show()"
   ]
  },
  {
   "cell_type": "code",
   "execution_count": null,
   "id": "e45da1f1",
   "metadata": {},
   "outputs": [],
   "source": [
    "df.hp_kW.describe()"
   ]
  },
  {
   "cell_type": "code",
   "execution_count": null,
   "id": "8e2df01a",
   "metadata": {},
   "outputs": [],
   "source": [
    "df.hp_kW.sort_values().head(50)"
   ]
  },
  {
   "cell_type": "code",
   "execution_count": null,
   "id": "d63c13e0",
   "metadata": {},
   "outputs": [],
   "source": [
    "np.sort(df.hp_kW.unique())"
   ]
  },
  {
   "cell_type": "code",
   "execution_count": null,
   "id": "7346f075",
   "metadata": {},
   "outputs": [],
   "source": [
    "df.hp_kW.loc[df.hp_kW < 40] = np.nan"
   ]
  },
  {
   "cell_type": "code",
   "execution_count": null,
   "id": "7d9cb958",
   "metadata": {},
   "outputs": [],
   "source": [
    "df.hp_kW.isnull().sum()"
   ]
  },
  {
   "cell_type": "code",
   "execution_count": null,
   "id": "5f93ad54",
   "metadata": {},
   "outputs": [],
   "source": [
    "fill(df, \"make_model\", \"body_type\", \"hp_kW\", \"mode\")"
   ]
  },
  {
   "cell_type": "code",
   "execution_count": null,
   "id": "13f35147",
   "metadata": {},
   "outputs": [],
   "source": [
    "plt.figure(figsize=(20, 6))\n",
    "\n",
    "plt.subplot(121)\n",
    "plt.hist(df.hp_kW, bins=15)\n",
    "\n",
    "plt.subplot(122)\n",
    "plt.boxplot(df.hp_kW, whis=2.5)\n",
    "\n",
    "plt.show()"
   ]
  },
  {
   "cell_type": "code",
   "execution_count": null,
   "id": "e4758b87",
   "metadata": {},
   "outputs": [],
   "source": [
    "first_looking(\"CO2_Emission\")"
   ]
  },
  {
   "cell_type": "code",
   "execution_count": null,
   "id": "5f1b2370",
   "metadata": {},
   "outputs": [],
   "source": [
    "plt.figure(figsize=(20, 6))\n",
    "\n",
    "plt.subplot(121)\n",
    "plt.hist(df.CO2_Emission, bins=100)\n",
    "\n",
    "plt.subplot(122)\n",
    "plt.boxplot(df.CO2_Emission, whis=2.5)\n",
    "\n",
    "plt.show()"
   ]
  },
  {
   "cell_type": "code",
   "execution_count": null,
   "id": "f8310de0",
   "metadata": {},
   "outputs": [],
   "source": [
    "df.CO2_Emission.describe()"
   ]
  },
  {
   "cell_type": "code",
   "execution_count": null,
   "id": "51c6148c",
   "metadata": {},
   "outputs": [],
   "source": [
    "df.CO2_Emission.value_counts().sort_index()"
   ]
  },
  {
   "cell_type": "code",
   "execution_count": null,
   "id": "b02d3576",
   "metadata": {},
   "outputs": [],
   "source": [
    "df.groupby([\"make_model\", \"body_type\", \"CO2_Emission\"]).price.describe()"
   ]
  },
  {
   "cell_type": "code",
   "execution_count": null,
   "id": "04d1a7d4",
   "metadata": {},
   "outputs": [],
   "source": [
    "cond = ((df.CO2_Emission < 36) | (df.CO2_Emission > 330))\n",
    "\n",
    "df.loc[cond, \"CO2_Emission\"] = np.nan"
   ]
  },
  {
   "cell_type": "code",
   "execution_count": null,
   "id": "d7155fc4",
   "metadata": {},
   "outputs": [],
   "source": [
    "df.CO2_Emission.isnull().sum()"
   ]
  },
  {
   "cell_type": "code",
   "execution_count": null,
   "id": "5a41c3e6",
   "metadata": {},
   "outputs": [],
   "source": [
    "fill(df, \"make_model\", \"body_type\", \"CO2_Emission\", \"median\")"
   ]
  },
  {
   "cell_type": "code",
   "execution_count": null,
   "id": "4b663da6",
   "metadata": {},
   "outputs": [],
   "source": [
    "plt.figure(figsize=(20, 6))\n",
    "\n",
    "plt.subplot(121)\n",
    "plt.hist(df.CO2_Emission, bins=15)\n",
    "\n",
    "plt.subplot(122)\n",
    "plt.boxplot(df.CO2_Emission, whis=2.5)\n",
    "\n",
    "plt.show()"
   ]
  },
  {
   "cell_type": "code",
   "execution_count": null,
   "id": "3b97ee88",
   "metadata": {},
   "outputs": [],
   "source": [
    "plt.figure(figsize = (20, 6))\n",
    "\n",
    "plt.subplot(121)\n",
    "plt.hist(np.log(df.CO2_Emission), bins=15)\n",
    "\n",
    "plt.subplot(122)\n",
    "plt.boxplot(np.log(df.CO2_Emission), whis=2.5)\n",
    "\n",
    "plt.show()"
   ]
  },
  {
   "cell_type": "code",
   "execution_count": null,
   "id": "6c539d33",
   "metadata": {},
   "outputs": [],
   "source": [
    "plt.figure(figsize = (20, 6))\n",
    "\n",
    "plt.subplot(121)\n",
    "plt.hist(winsorize(df.CO2_Emission, (0.001, 0.003)), bins = 15)\n",
    "\n",
    "plt.subplot(122)\n",
    "plt.boxplot(winsorize(df.CO2_Emission, (0.001, 0.003)), whis=2.5)\n",
    "\n",
    "plt.show()"
   ]
  },
  {
   "cell_type": "code",
   "execution_count": null,
   "id": "1c73d7eb",
   "metadata": {},
   "outputs": [],
   "source": [
    "first_looking(\"cons_comb\")"
   ]
  },
  {
   "cell_type": "code",
   "execution_count": null,
   "id": "47d192dd",
   "metadata": {},
   "outputs": [],
   "source": [
    "plt.figure(figsize = (20, 6))\n",
    "\n",
    "plt.subplot(121)\n",
    "plt.hist(df.cons_comb, bins = 25)\n",
    "\n",
    "plt.subplot(122)\n",
    "plt.boxplot(df.cons_comb, whis = 2)\n",
    "\n",
    "plt.show()"
   ]
  },
  {
   "cell_type": "code",
   "execution_count": null,
   "id": "03255ef1",
   "metadata": {},
   "outputs": [],
   "source": [
    "df.cons_comb.describe()"
   ]
  },
  {
   "cell_type": "code",
   "execution_count": null,
   "id": "0718329d",
   "metadata": {},
   "outputs": [],
   "source": [
    "df.cons_comb.sort_values().head(10)"
   ]
  },
  {
   "cell_type": "code",
   "execution_count": null,
   "id": "900278a1",
   "metadata": {},
   "outputs": [],
   "source": [
    "df.cons_comb.sort_values().tail(10)"
   ]
  },
  {
   "cell_type": "code",
   "execution_count": null,
   "id": "11969776",
   "metadata": {},
   "outputs": [],
   "source": [
    "first_looking(\"Nr_of_Doors\")"
   ]
  },
  {
   "cell_type": "code",
   "execution_count": null,
   "id": "dec480c0",
   "metadata": {},
   "outputs": [],
   "source": [
    "df.Nr_of_Doors.replace([1, 7], np.nan, inplace=True)"
   ]
  },
  {
   "cell_type": "code",
   "execution_count": null,
   "id": "51b35d6f",
   "metadata": {},
   "outputs": [],
   "source": [
    "df.Nr_of_Doors.isnull().sum()"
   ]
  },
  {
   "cell_type": "code",
   "execution_count": null,
   "id": "b0dde54a",
   "metadata": {},
   "outputs": [],
   "source": [
    "fill(df, \"make_model\", \"body_type\", \"Nr_of_Doors\", \"mode\")"
   ]
  },
  {
   "cell_type": "code",
   "execution_count": null,
   "id": "a5001834",
   "metadata": {},
   "outputs": [],
   "source": [
    "fig, ax = plt.subplots()\n",
    "\n",
    "df.Nr_of_Doors.value_counts(dropna = False).plot.bar()\n",
    "\n",
    "for container in ax.containers:\n",
    "    ax.bar_label(container);"
   ]
  },
  {
   "cell_type": "code",
   "execution_count": null,
   "id": "c4093dc8",
   "metadata": {},
   "outputs": [],
   "source": [
    "fig, ax = plt.subplots()\n",
    "\n",
    "df.groupby([\"make_model\", \"Nr_of_Doors\"]).Nr_of_Doors.count().plot.bar()\n",
    "\n",
    "for container in ax.containers:\n",
    "    ax.bar_label(container);"
   ]
  },
  {
   "cell_type": "code",
   "execution_count": null,
   "id": "5249b56a",
   "metadata": {},
   "outputs": [],
   "source": [
    "df.drop(\"Nr_of_Doors\", axis=1, inplace=True)"
   ]
  },
  {
   "cell_type": "code",
   "execution_count": null,
   "id": "92849bf0",
   "metadata": {},
   "outputs": [],
   "source": [
    "first_looking(\"Nr_of_Seats\")"
   ]
  },
  {
   "cell_type": "code",
   "execution_count": null,
   "id": "6c4ff5e3",
   "metadata": {},
   "outputs": [],
   "source": [
    "df.Nr_of_Seats.replace([3, 6], np.nan, inplace=True)"
   ]
  },
  {
   "cell_type": "code",
   "execution_count": null,
   "id": "bbeece66",
   "metadata": {},
   "outputs": [],
   "source": [
    "df.Nr_of_Seats.isnull().sum()"
   ]
  },
  {
   "cell_type": "code",
   "execution_count": null,
   "id": "18bb0354",
   "metadata": {},
   "outputs": [],
   "source": [
    "fill(df, \"make_model\", \"body_type\", \"Nr_of_Seats\", \"mode\")"
   ]
  },
  {
   "cell_type": "code",
   "execution_count": null,
   "id": "7996b6f2",
   "metadata": {},
   "outputs": [],
   "source": [
    "fig, ax = plt.subplots()\n",
    "\n",
    "df.Nr_of_Seats.value_counts(dropna=False).plot.bar()\n",
    "\n",
    "for container in ax.containers:\n",
    "    ax.bar_label(container);"
   ]
  },
  {
   "cell_type": "code",
   "execution_count": null,
   "id": "6ff52cfc",
   "metadata": {},
   "outputs": [],
   "source": [
    "fig, ax = plt.subplots()\n",
    "\n",
    "df.groupby([\"make_model\", \"Nr_of_Seats\"]).Nr_of_Seats.count().plot.bar()\n",
    "\n",
    "for container in ax.containers:\n",
    "    ax.bar_label(container);"
   ]
  },
  {
   "cell_type": "code",
   "execution_count": null,
   "id": "e7509b5d",
   "metadata": {},
   "outputs": [],
   "source": [
    "df.drop(\"Nr_of_Seats\", axis=1, inplace=True)"
   ]
  },
  {
   "cell_type": "code",
   "execution_count": null,
   "id": "4a067777",
   "metadata": {},
   "outputs": [],
   "source": [
    "first_looking(\"price\")"
   ]
  },
  {
   "cell_type": "code",
   "execution_count": null,
   "id": "ef6482af",
   "metadata": {},
   "outputs": [],
   "source": [
    "plt.figure(figsize=(20, 6))\n",
    "\n",
    "plt.subplot(121)\n",
    "plt.hist(df.price, bins=20)\n",
    "\n",
    "plt.subplot(122)\n",
    "plt.boxplot(df.price, whis=3)\n",
    "\n",
    "plt.show()"
   ]
  },
  {
   "cell_type": "code",
   "execution_count": null,
   "id": "fbc48037",
   "metadata": {},
   "outputs": [],
   "source": [
    "df.price.describe()"
   ]
  },
  {
   "cell_type": "code",
   "execution_count": null,
   "id": "466d5bd1",
   "metadata": {},
   "outputs": [],
   "source": [
    "df.price.sort_values().head(5)"
   ]
  },
  {
   "cell_type": "code",
   "execution_count": null,
   "id": "92a12d86",
   "metadata": {},
   "outputs": [],
   "source": [
    "drop_index = df.price.sort_values().index[:4]\n",
    "drop_index"
   ]
  },
  {
   "cell_type": "code",
   "execution_count": null,
   "id": "c406d9b9",
   "metadata": {},
   "outputs": [],
   "source": [
    "df.drop(drop_index, axis=0, inplace=True)"
   ]
  },
  {
   "cell_type": "code",
   "execution_count": null,
   "id": "cc0ed242",
   "metadata": {},
   "outputs": [],
   "source": [
    "df.shape"
   ]
  },
  {
   "cell_type": "code",
   "execution_count": null,
   "id": "4aea1e6b",
   "metadata": {},
   "outputs": [],
   "source": [
    "plt.figure(figsize=(20, 6))\n",
    "\n",
    "plt.subplot(121)\n",
    "plt.hist(df.price, bins=20)\n",
    "\n",
    "plt.subplot(122)\n",
    "plt.boxplot(df.price, whis=3)\n",
    "\n",
    "plt.show()"
   ]
  },
  {
   "cell_type": "code",
   "execution_count": null,
   "id": "7d95d9ce",
   "metadata": {},
   "outputs": [],
   "source": [
    "plt.figure(figsize=(16, 6))\n",
    "sns.boxplot(x=\"make_model\", y=\"price\", data=df, whis=3)\n",
    "plt.show()"
   ]
  },
  {
   "cell_type": "code",
   "execution_count": null,
   "id": "3c1380f7",
   "metadata": {},
   "outputs": [],
   "source": [
    "first_looking(\"make_model\")"
   ]
  },
  {
   "cell_type": "code",
   "execution_count": null,
   "id": "964236fb",
   "metadata": {},
   "outputs": [],
   "source": [
    "df[df.make_model==\"Audi A2\"]"
   ]
  },
  {
   "cell_type": "code",
   "execution_count": null,
   "id": "b8348449",
   "metadata": {},
   "outputs": [],
   "source": [
    "drop_index = df[df.make_model == \"Audi A2\"].index\n",
    "drop_index"
   ]
  },
  {
   "cell_type": "code",
   "execution_count": null,
   "id": "69d8c0bf",
   "metadata": {},
   "outputs": [],
   "source": [
    "df.drop(drop_index, axis=0, inplace=True)"
   ]
  },
  {
   "cell_type": "code",
   "execution_count": null,
   "id": "93f9dac3",
   "metadata": {},
   "outputs": [],
   "source": [
    "df.shape"
   ]
  },
  {
   "cell_type": "code",
   "execution_count": null,
   "id": "3e5dd9f6",
   "metadata": {},
   "outputs": [],
   "source": [
    "first_looking(\"Fuel\")"
   ]
  },
  {
   "cell_type": "code",
   "execution_count": null,
   "id": "85b847cb",
   "metadata": {},
   "outputs": [],
   "source": [
    "df[df.Fuel == \"Electric\"][[\"make_model\", \"body_type\", \"CO2_Emission\", \"Gears\", \"hp_kW\", \"cons_comb\", \"price\"]]"
   ]
  },
  {
   "cell_type": "code",
   "execution_count": null,
   "id": "29be9cb4",
   "metadata": {},
   "outputs": [],
   "source": [
    "drop_index = df[df.Fuel == \"Electric\"].index\n",
    "drop_index"
   ]
  },
  {
   "cell_type": "code",
   "execution_count": null,
   "id": "34082285",
   "metadata": {},
   "outputs": [],
   "source": [
    "df.drop(drop_index, axis=0, inplace=True)"
   ]
  },
  {
   "cell_type": "code",
   "execution_count": null,
   "id": "8d3aa6f6",
   "metadata": {},
   "outputs": [],
   "source": [
    "df.reset_index(drop=True, inplace=True)"
   ]
  },
  {
   "cell_type": "code",
   "execution_count": null,
   "id": "1944238b",
   "metadata": {},
   "outputs": [],
   "source": [
    "df.shape"
   ]
  },
  {
   "cell_type": "code",
   "execution_count": null,
   "id": "2bc3ae47",
   "metadata": {},
   "outputs": [],
   "source": [
    "df.head(3).T"
   ]
  },
  {
   "cell_type": "code",
   "execution_count": null,
   "id": "0da67579",
   "metadata": {},
   "outputs": [],
   "source": [
    "df.info()"
   ]
  },
  {
   "cell_type": "code",
   "execution_count": null,
   "id": "222c701e",
   "metadata": {},
   "outputs": [],
   "source": [
    "df_num = df.select_dtypes(\"number\")\n",
    "df_num"
   ]
  },
  {
   "cell_type": "code",
   "execution_count": null,
   "id": "391212a2",
   "metadata": {},
   "outputs": [],
   "source": [
    "plt.figure(figsize=(16, 12))\n",
    "\n",
    "sns.heatmap(df_num.corr(), annot=True, cmap=\"Blues\", linewidths=0.2, annot_kws={\"size\": 16});"
   ]
  },
  {
   "cell_type": "code",
   "execution_count": null,
   "id": "52b28d01",
   "metadata": {},
   "outputs": [],
   "source": [
    "def color_correlation(val):\n",
    "    \"\"\"\n",
    "    Takes a scalar and returns a string with\n",
    "    the css property in a variety of color scales \n",
    "    for different correlations.\n",
    "    \"\"\"\n",
    "    if val >= 0.6 and val < 0.99999 or val <= -0.6 and val > -0.99999:\n",
    "        color = 'red'\n",
    "    elif val < 0.6 and val >= 0.3 or val > -0.6 and val <= -0.3:\n",
    "        color = 'blue'\n",
    "    elif val == 1:\n",
    "        color = 'cyan'    \n",
    "    else:\n",
    "        color = 'black'\n",
    "    return 'color: %s' % color\n",
    " \n",
    "df_num.corr().style.applymap(color_correlation)"
   ]
  },
  {
   "cell_type": "code",
   "execution_count": null,
   "id": "505b05a7",
   "metadata": {},
   "outputs": [],
   "source": [
    "df.info()"
   ]
  },
  {
   "cell_type": "code",
   "execution_count": null,
   "id": "1530d17c",
   "metadata": {},
   "outputs": [],
   "source": [
    "df.shape"
   ]
  },
  {
   "cell_type": "code",
   "execution_count": null,
   "id": "74d0ad19",
   "metadata": {},
   "outputs": [],
   "source": [
    "df.to_csv(\"final_scout_not_dummy.csv\", index=False)"
   ]
  },
  {
   "cell_type": "code",
   "execution_count": null,
   "id": "55f4e145",
   "metadata": {},
   "outputs": [],
   "source": [
    "df = df.join(df[\"Comfort_Convenience\"].str.get_dummies(sep=\",\").add_prefix(\"cc_\"))\n",
    "df = df.join(df[\"Entertainment_Media\"].str.get_dummies(sep=\",\").add_prefix(\"em_\"))\n",
    "df = df.join(df[\"Extras\"].str.get_dummies(sep = \",\").add_prefix(\"ex_\"))\n",
    "df = df.join(df[\"Safety_Security\"].str.get_dummies(sep=\",\").add_prefix(\"ss_\"))"
   ]
  },
  {
   "cell_type": "code",
   "execution_count": null,
   "id": "3432ae87",
   "metadata": {},
   "outputs": [],
   "source": [
    "df.drop([\"Comfort_Convenience\", \"Entertainment_Media\", \"Extras\", \"Safety_Security\"], axis=1, inplace=True)"
   ]
  },
  {
   "cell_type": "code",
   "execution_count": null,
   "id": "d64221d0",
   "metadata": {},
   "outputs": [],
   "source": [
    "df.shape"
   ]
  },
  {
   "cell_type": "code",
   "execution_count": null,
   "id": "5f2d75dd",
   "metadata": {},
   "outputs": [],
   "source": [
    "df_final = pd.get_dummies(df, drop_first=True)"
   ]
  },
  {
   "cell_type": "code",
   "execution_count": null,
   "id": "c3dd747e",
   "metadata": {},
   "outputs": [],
   "source": [
    "df_final.shape"
   ]
  },
  {
   "cell_type": "code",
   "execution_count": null,
   "id": "3741f62d",
   "metadata": {},
   "outputs": [],
   "source": [
    "df_final.head().T"
   ]
  },
  {
   "cell_type": "code",
   "execution_count": null,
   "id": "22b15af5",
   "metadata": {},
   "outputs": [],
   "source": [
    "df_final.to_csv(\"final_scout_dummy.csv\", index=False)"
   ]
  }
 ],
 "metadata": {
  "kernelspec": {
   "display_name": "Python 3 (ipykernel)",
   "language": "python",
   "name": "python3"
  },
  "language_info": {
   "codemirror_mode": {
    "name": "ipython",
    "version": 3
   },
   "file_extension": ".py",
   "mimetype": "text/x-python",
   "name": "python",
   "nbconvert_exporter": "python",
   "pygments_lexer": "ipython3",
   "version": "3.8.12"
  }
 },
 "nbformat": 4,
 "nbformat_minor": 5
}
